{
 "cells": [
  {
   "cell_type": "code",
   "execution_count": 0,
   "metadata": {
    "colab": {
     "base_uri": "https://localhost:8080/",
     "height": 312
    },
    "colab_type": "code",
    "id": "EZVqKWAGqA6I",
    "outputId": "48449488-a6c1-4ec7-ed36-eeef823c1966"
   },
   "outputs": [
    {
     "name": "stdout",
     "output_type": "stream",
     "text": [
      "Tue Apr 28 08:29:32 2020       \n",
      "+-----------------------------------------------------------------------------+\n",
      "| NVIDIA-SMI 440.64.00    Driver Version: 418.67       CUDA Version: 10.1     |\n",
      "|-------------------------------+----------------------+----------------------+\n",
      "| GPU  Name        Persistence-M| Bus-Id        Disp.A | Volatile Uncorr. ECC |\n",
      "| Fan  Temp  Perf  Pwr:Usage/Cap|         Memory-Usage | GPU-Util  Compute M. |\n",
      "|===============================+======================+======================|\n",
      "|   0  Tesla T4            Off  | 00000000:00:04.0 Off |                    0 |\n",
      "| N/A   41C    P8    11W /  70W |      0MiB / 15079MiB |      0%      Default |\n",
      "+-------------------------------+----------------------+----------------------+\n",
      "                                                                               \n",
      "+-----------------------------------------------------------------------------+\n",
      "| Processes:                                                       GPU Memory |\n",
      "|  GPU       PID   Type   Process name                             Usage      |\n",
      "|=============================================================================|\n",
      "|  No running processes found                                                 |\n",
      "+-----------------------------------------------------------------------------+\n"
     ]
    }
   ],
   "source": [
    "!nvidia-smi"
   ]
  },
  {
   "cell_type": "code",
   "execution_count": 0,
   "metadata": {
    "colab": {
     "base_uri": "https://localhost:8080/",
     "height": 35
    },
    "colab_type": "code",
    "id": "IB6QHMfXrkp-",
    "outputId": "81e4bcf6-0aa3-4c05-b395-987a02d2eacc"
   },
   "outputs": [
    {
     "name": "stdout",
     "output_type": "stream",
     "text": [
      "/content\n"
     ]
    }
   ],
   "source": [
    "cd /content/"
   ]
  },
  {
   "cell_type": "code",
   "execution_count": 0,
   "metadata": {
    "colab": {},
    "colab_type": "code",
    "id": "sYAoPQ6krnEi"
   },
   "outputs": [],
   "source": [
    "rm -r sample_data/"
   ]
  },
  {
   "cell_type": "code",
   "execution_count": 0,
   "metadata": {
    "colab": {},
    "colab_type": "code",
    "id": "PwZBJ5sLm69i"
   },
   "outputs": [],
   "source": [
    "!wget --no-check-certificate 'https://docs.google.com/uc?export=download&id=1OGHRLzfz5sk_nKlmCemEt72K4ORNjPnc' -O coco_s2_train.yml"
   ]
  },
  {
   "cell_type": "code",
   "execution_count": 0,
   "metadata": {
    "colab": {},
    "colab_type": "code",
    "id": "8gnghvmTm6t2"
   },
   "outputs": [],
   "source": [
    "!wget --no-check-certificate 'https://docs.google.com/uc?export=download&id=1RhK86_H2uB2N84VqqtJFAoESZVetICJW' -O config.py"
   ]
  },
  {
   "cell_type": "code",
   "execution_count": 0,
   "metadata": {
    "colab": {},
    "colab_type": "code",
    "id": "16aJU6oVm6XC"
   },
   "outputs": [],
   "source": [
    "!wget --no-check-certificate 'https://docs.google.com/uc?export=download&id=1_8WqcrEPWJpcGT3I2lbUFSAO08CfY3L_' -O datasets.py"
   ]
  },
  {
   "cell_type": "code",
   "execution_count": 0,
   "metadata": {
    "colab": {},
    "colab_type": "code",
    "id": "lTnKsINIm6G6"
   },
   "outputs": [],
   "source": [
    "!wget --no-check-certificate 'https://docs.google.com/uc?export=download&id=1sxa_58XeoUPs1hLFk_UChDvFXk6KxqQJ' -O trainer.py"
   ]
  },
  {
   "cell_type": "code",
   "execution_count": 0,
   "metadata": {
    "colab": {},
    "colab_type": "code",
    "id": "a4YYBSQSm5cL"
   },
   "outputs": [],
   "source": [
    "!wget --no-check-certificate 'https://docs.google.com/uc?export=download&id=17vRfm_RNdBUofnyjMaPQh3n2_hPjVDRj' -O utils.py"
   ]
  },
  {
   "cell_type": "code",
   "execution_count": 0,
   "metadata": {
    "colab": {
     "base_uri": "https://localhost:8080/",
     "height": 139
    },
    "colab_type": "code",
    "id": "E9kHRePXqGy5",
    "outputId": "f62daa84-155a-4a90-cf7d-02adc1d7b586"
   },
   "outputs": [
    {
     "name": "stdout",
     "output_type": "stream",
     "text": [
      "Cloning into 'multiple-objects-gan'...\n",
      "remote: Enumerating objects: 17, done.\u001b[K\n",
      "remote: Counting objects: 100% (17/17), done.\u001b[K\n",
      "remote: Compressing objects: 100% (15/15), done.\u001b[K\n",
      "remote: Total 415 (delta 4), reused 0 (delta 0), pack-reused 398\u001b[K\n",
      "Receiving objects: 100% (415/415), 23.04 MiB | 2.94 MiB/s, done.\n",
      "Resolving deltas: 100% (189/189), done.\n"
     ]
    }
   ],
   "source": [
    "!git clone https://github.com/tohinz/multiple-objects-gan.git"
   ]
  },
  {
   "cell_type": "code",
   "execution_count": 0,
   "metadata": {
    "colab": {
     "base_uri": "https://localhost:8080/",
     "height": 35
    },
    "colab_type": "code",
    "id": "PulyVucJqkRS",
    "outputId": "78335be5-11cc-48f0-a02c-5cf0cf754a1f"
   },
   "outputs": [
    {
     "name": "stdout",
     "output_type": "stream",
     "text": [
      "/content/multiple-objects-gan/data\n"
     ]
    }
   ],
   "source": [
    "cd /content/multiple-objects-gan/data/"
   ]
  },
  {
   "cell_type": "code",
   "execution_count": 0,
   "metadata": {
    "colab": {
     "base_uri": "https://localhost:8080/",
     "height": 208
    },
    "colab_type": "code",
    "id": "gKv-a2HWqnSt",
    "outputId": "aa72b1a9-aaa8-4d8c-fe26-6b22e4a19a8a"
   },
   "outputs": [
    {
     "name": "stdout",
     "output_type": "stream",
     "text": [
      "--2020-04-28 07:22:48--  https://www2.informatik.uni-hamburg.de/wtm/software/multiple-objects-gan/data-ms-coco.zip\n",
      "Resolving www2.informatik.uni-hamburg.de (www2.informatik.uni-hamburg.de)... 134.100.9.79\n",
      "Connecting to www2.informatik.uni-hamburg.de (www2.informatik.uni-hamburg.de)|134.100.9.79|:443... connected.\n",
      "HTTP request sent, awaiting response... 200 OK\n",
      "Length: 4312414 (4.1M) [application/zip]\n",
      "Saving to: ‘data-ms-coco.zip’\n",
      "\n",
      "data-ms-coco.zip    100%[===================>]   4.11M  1.70MB/s    in 2.4s    \n",
      "\n",
      "2020-04-28 07:22:52 (1.70 MB/s) - ‘data-ms-coco.zip’ saved [4312414/4312414]\n",
      "\n"
     ]
    }
   ],
   "source": [
    "!wget https://www2.informatik.uni-hamburg.de/wtm/software/multiple-objects-gan/data-ms-coco.zip"
   ]
  },
  {
   "cell_type": "code",
   "execution_count": 0,
   "metadata": {
    "colab": {},
    "colab_type": "code",
    "id": "XmVr-IxFqq8o"
   },
   "outputs": [],
   "source": [
    "!unzip -q data-ms-coco.zip"
   ]
  },
  {
   "cell_type": "code",
   "execution_count": 0,
   "metadata": {
    "colab": {},
    "colab_type": "code",
    "id": "d-zdWbWXquCG"
   },
   "outputs": [],
   "source": [
    "rm data-ms-coco.zip"
   ]
  },
  {
   "cell_type": "code",
   "execution_count": 0,
   "metadata": {
    "colab": {
     "base_uri": "https://localhost:8080/",
     "height": 453
    },
    "colab_type": "code",
    "id": "5AtrtK_zqxJW",
    "outputId": "64518d59-34a7-4b21-b330-ab202b00d9e7"
   },
   "outputs": [
    {
     "name": "stdout",
     "output_type": "stream",
     "text": [
      "--2020-04-28 07:29:36--  https://docs.google.com/uc?export=download&confirm=eKua&id=0B3y_msrWZaXLQXVzOENCY2E3TlU\n",
      "Resolving docs.google.com (docs.google.com)... 172.217.194.102, 172.217.194.139, 172.217.194.101, ...\n",
      "Connecting to docs.google.com (docs.google.com)|172.217.194.102|:443... connected.\n",
      "HTTP request sent, awaiting response... 302 Moved Temporarily\n",
      "Location: https://doc-0s-9s-docs.googleusercontent.com/docs/securesc/ta6mas3fo9fpc2bgr8qdcf88c073pkom/lmu40cosh878enejt41k3i5lvqkahm87/1588058925000/16427414401649018968/17647098236437510982Z/0B3y_msrWZaXLQXVzOENCY2E3TlU?e=download [following]\n",
      "--2020-04-28 07:29:36--  https://doc-0s-9s-docs.googleusercontent.com/docs/securesc/ta6mas3fo9fpc2bgr8qdcf88c073pkom/lmu40cosh878enejt41k3i5lvqkahm87/1588058925000/16427414401649018968/17647098236437510982Z/0B3y_msrWZaXLQXVzOENCY2E3TlU?e=download\n",
      "Resolving doc-0s-9s-docs.googleusercontent.com (doc-0s-9s-docs.googleusercontent.com)... 172.217.194.132, 2404:6800:4003:c04::84\n",
      "Connecting to doc-0s-9s-docs.googleusercontent.com (doc-0s-9s-docs.googleusercontent.com)|172.217.194.132|:443... connected.\n",
      "HTTP request sent, awaiting response... 302 Found\n",
      "Location: https://docs.google.com/nonceSigner?nonce=gje13vrse7tq2&continue=https://doc-0s-9s-docs.googleusercontent.com/docs/securesc/ta6mas3fo9fpc2bgr8qdcf88c073pkom/lmu40cosh878enejt41k3i5lvqkahm87/1588058925000/16427414401649018968/17647098236437510982Z/0B3y_msrWZaXLQXVzOENCY2E3TlU?e%3Ddownload&hash=ufaurt7qpsep7v3rasqcmb1gjp8n8g4o [following]\n",
      "--2020-04-28 07:29:36--  https://docs.google.com/nonceSigner?nonce=gje13vrse7tq2&continue=https://doc-0s-9s-docs.googleusercontent.com/docs/securesc/ta6mas3fo9fpc2bgr8qdcf88c073pkom/lmu40cosh878enejt41k3i5lvqkahm87/1588058925000/16427414401649018968/17647098236437510982Z/0B3y_msrWZaXLQXVzOENCY2E3TlU?e%3Ddownload&hash=ufaurt7qpsep7v3rasqcmb1gjp8n8g4o\n",
      "Connecting to docs.google.com (docs.google.com)|172.217.194.102|:443... connected.\n",
      "HTTP request sent, awaiting response... 302 Found\n",
      "Location: https://doc-0s-9s-docs.googleusercontent.com/docs/securesc/ta6mas3fo9fpc2bgr8qdcf88c073pkom/lmu40cosh878enejt41k3i5lvqkahm87/1588058925000/16427414401649018968/17647098236437510982Z/0B3y_msrWZaXLQXVzOENCY2E3TlU?e=download&nonce=gje13vrse7tq2&user=17647098236437510982Z&hash=5k9lunfi3vktk3vkuc5tig54tfhgih79 [following]\n",
      "--2020-04-28 07:29:36--  https://doc-0s-9s-docs.googleusercontent.com/docs/securesc/ta6mas3fo9fpc2bgr8qdcf88c073pkom/lmu40cosh878enejt41k3i5lvqkahm87/1588058925000/16427414401649018968/17647098236437510982Z/0B3y_msrWZaXLQXVzOENCY2E3TlU?e=download&nonce=gje13vrse7tq2&user=17647098236437510982Z&hash=5k9lunfi3vktk3vkuc5tig54tfhgih79\n",
      "Connecting to doc-0s-9s-docs.googleusercontent.com (doc-0s-9s-docs.googleusercontent.com)|172.217.194.132|:443... connected.\n",
      "HTTP request sent, awaiting response... 200 OK\n",
      "Length: unspecified [application/zip]\n",
      "Saving to: ‘coco.zip’\n",
      "\n",
      "coco.zip                [     <=>            ]   1.48G  61.4MB/s    in 45s     \n",
      "\n",
      "2020-04-28 07:30:22 (33.7 MB/s) - ‘coco.zip’ saved [1587844671]\n",
      "\n"
     ]
    }
   ],
   "source": [
    "!wget --load-cookies /tmp/cookies.txt \"https://docs.google.com/uc?export=download&confirm=$(wget --quiet --save-cookies /tmp/cookies.txt --keep-session-cookies --no-check-certificate 'https://docs.google.com/uc?export=download&id=0B3y_msrWZaXLQXVzOENCY2E3TlU' -O- | sed -rn 's/.*confirm=([0-9A-Za-z_]+).*/\\1\\n/p')&id=0B3y_msrWZaXLQXVzOENCY2E3TlU\" -O coco.zip && rm -rf /tmp/cookies.txt"
   ]
  },
  {
   "cell_type": "code",
   "execution_count": 0,
   "metadata": {
    "colab": {},
    "colab_type": "code",
    "id": "7GMA1xz-q4rn"
   },
   "outputs": [],
   "source": [
    "!unzip -q coco.zip"
   ]
  },
  {
   "cell_type": "code",
   "execution_count": 0,
   "metadata": {
    "colab": {},
    "colab_type": "code",
    "id": "MjI9vjyxrFoE"
   },
   "outputs": [],
   "source": [
    "rm -r __MACOSX/"
   ]
  },
  {
   "cell_type": "code",
   "execution_count": 0,
   "metadata": {
    "colab": {},
    "colab_type": "code",
    "id": "WiJtP0xPrFkp"
   },
   "outputs": [],
   "source": [
    "rm README.md"
   ]
  },
  {
   "cell_type": "code",
   "execution_count": 0,
   "metadata": {
    "colab": {},
    "colab_type": "code",
    "id": "QYKLUyCWrFaV"
   },
   "outputs": [],
   "source": [
    "rm coco.zip"
   ]
  },
  {
   "cell_type": "code",
   "execution_count": 0,
   "metadata": {
    "colab": {},
    "colab_type": "code",
    "id": "hZqWE57Lm7ZF"
   },
   "outputs": [],
   "source": [
    "mv coco/test/filename.txt MS-COCO/test/"
   ]
  },
  {
   "cell_type": "code",
   "execution_count": 0,
   "metadata": {
    "colab": {},
    "colab_type": "code",
    "id": "faaz2F96o2Mu"
   },
   "outputs": [],
   "source": [
    "mv coco/test/filenames.pickle MS-COCO/test/"
   ]
  },
  {
   "cell_type": "code",
   "execution_count": 0,
   "metadata": {
    "colab": {},
    "colab_type": "code",
    "id": "ul-1AtgbnNWw"
   },
   "outputs": [],
   "source": [
    "mv coco/train/char-CNN-RNN-embeddings.pickle MS-COCO/train/"
   ]
  },
  {
   "cell_type": "code",
   "execution_count": 0,
   "metadata": {
    "colab": {},
    "colab_type": "code",
    "id": "i9aAc3hmo76Z"
   },
   "outputs": [],
   "source": [
    "mv coco/train/filenames.pickle MS-COCO/train/"
   ]
  },
  {
   "cell_type": "code",
   "execution_count": 0,
   "metadata": {
    "colab": {},
    "colab_type": "code",
    "id": "34BfP8Ropq-v"
   },
   "outputs": [],
   "source": [
    "rm -r coco/"
   ]
  },
  {
   "cell_type": "code",
   "execution_count": 0,
   "metadata": {
    "colab": {
     "base_uri": "https://localhost:8080/",
     "height": 35
    },
    "colab_type": "code",
    "id": "25iwXWJcpwkc",
    "outputId": "e6a0a1cd-8290-40a1-daa9-5a6e02e76da3"
   },
   "outputs": [
    {
     "name": "stdout",
     "output_type": "stream",
     "text": [
      "/content/multiple-objects-gan/data/MS-COCO/train\n"
     ]
    }
   ],
   "source": [
    "cd MS-COCO/train/"
   ]
  },
  {
   "cell_type": "code",
   "execution_count": 0,
   "metadata": {
    "colab": {
     "base_uri": "https://localhost:8080/",
     "height": 208
    },
    "colab_type": "code",
    "id": "DqfQJirBlvom",
    "outputId": "361260a3-0acf-452e-d611-fef266d5f649"
   },
   "outputs": [
    {
     "name": "stdout",
     "output_type": "stream",
     "text": [
      "--2020-04-28 07:32:43--  http://images.cocodataset.org/zips/train2014.zip\n",
      "Resolving images.cocodataset.org (images.cocodataset.org)... 52.216.24.252\n",
      "Connecting to images.cocodataset.org (images.cocodataset.org)|52.216.24.252|:80... connected.\n",
      "HTTP request sent, awaiting response... 200 OK\n",
      "Length: 13510573713 (13G) [application/zip]\n",
      "Saving to: ‘train2014.zip’\n",
      "\n",
      "train2014.zip       100%[===================>]  12.58G  13.8MB/s    in 15m 55s \n",
      "\n",
      "2020-04-28 07:48:39 (13.5 MB/s) - ‘train2014.zip’ saved [13510573713/13510573713]\n",
      "\n"
     ]
    }
   ],
   "source": [
    "!wget http://images.cocodataset.org/zips/train2014.zip"
   ]
  },
  {
   "cell_type": "code",
   "execution_count": 0,
   "metadata": {
    "colab": {},
    "colab_type": "code",
    "id": "rJhW8sD4p2KA"
   },
   "outputs": [],
   "source": [
    "!unzip -q train2014.zip"
   ]
  },
  {
   "cell_type": "code",
   "execution_count": 0,
   "metadata": {
    "colab": {},
    "colab_type": "code",
    "id": "rbHzOiohs1VC"
   },
   "outputs": [],
   "source": [
    "rm train2014.zip"
   ]
  },
  {
   "cell_type": "code",
   "execution_count": 0,
   "metadata": {
    "colab": {
     "base_uri": "https://localhost:8080/",
     "height": 35
    },
    "colab_type": "code",
    "id": "deGJPk9ks9Zl",
    "outputId": "82320333-ad97-4c01-875e-093e9f92840e"
   },
   "outputs": [
    {
     "name": "stdout",
     "output_type": "stream",
     "text": [
      "/content/multiple-objects-gan/data\n"
     ]
    }
   ],
   "source": [
    "cd ../../"
   ]
  },
  {
   "cell_type": "code",
   "execution_count": 0,
   "metadata": {
    "colab": {},
    "colab_type": "code",
    "id": "sF4wYrWjEwFS"
   },
   "outputs": [],
   "source": [
    "mkdir models"
   ]
  },
  {
   "cell_type": "code",
   "execution_count": 0,
   "metadata": {
    "colab": {
     "base_uri": "https://localhost:8080/",
     "height": 35
    },
    "colab_type": "code",
    "id": "a9zrOcU1FBJN",
    "outputId": "6219653c-1a47-48f8-8285-04630484c5c0"
   },
   "outputs": [
    {
     "name": "stdout",
     "output_type": "stream",
     "text": [
      "/content/multiple-objects-gan/data/models\n"
     ]
    }
   ],
   "source": [
    "cd models/"
   ]
  },
  {
   "cell_type": "code",
   "execution_count": 0,
   "metadata": {
    "colab": {
     "base_uri": "https://localhost:8080/",
     "height": 453
    },
    "colab_type": "code",
    "id": "9IDUUT6HFJt5",
    "outputId": "779be068-bfdb-49d7-e430-7ed43b6453a2"
   },
   "outputs": [
    {
     "name": "stdout",
     "output_type": "stream",
     "text": [
      "--2020-04-28 08:19:07--  https://docs.google.com/uc?export=download&confirm=GKcb&id=1XlBL5ZvK-SosZsx8WWcHddmBnHm8TpAU\n",
      "Resolving docs.google.com (docs.google.com)... 172.217.194.102, 172.217.194.138, 172.217.194.100, ...\n",
      "Connecting to docs.google.com (docs.google.com)|172.217.194.102|:443... connected.\n",
      "HTTP request sent, awaiting response... 302 Moved Temporarily\n",
      "Location: https://doc-0c-18-docs.googleusercontent.com/docs/securesc/qbdjkc3h54bm21vd20ofhabrr8egcrs2/0m1vr74cjoo79un65nrg58dd2hb6qt4e/1588061925000/06568122908834480149/03428519557147019363Z/1XlBL5ZvK-SosZsx8WWcHddmBnHm8TpAU?e=download [following]\n",
      "--2020-04-28 08:19:08--  https://doc-0c-18-docs.googleusercontent.com/docs/securesc/qbdjkc3h54bm21vd20ofhabrr8egcrs2/0m1vr74cjoo79un65nrg58dd2hb6qt4e/1588061925000/06568122908834480149/03428519557147019363Z/1XlBL5ZvK-SosZsx8WWcHddmBnHm8TpAU?e=download\n",
      "Resolving doc-0c-18-docs.googleusercontent.com (doc-0c-18-docs.googleusercontent.com)... 172.217.194.132, 2404:6800:4003:c04::84\n",
      "Connecting to doc-0c-18-docs.googleusercontent.com (doc-0c-18-docs.googleusercontent.com)|172.217.194.132|:443... connected.\n",
      "HTTP request sent, awaiting response... 302 Found\n",
      "Location: https://docs.google.com/nonceSigner?nonce=gd36d3ni4qo4q&continue=https://doc-0c-18-docs.googleusercontent.com/docs/securesc/qbdjkc3h54bm21vd20ofhabrr8egcrs2/0m1vr74cjoo79un65nrg58dd2hb6qt4e/1588061925000/06568122908834480149/03428519557147019363Z/1XlBL5ZvK-SosZsx8WWcHddmBnHm8TpAU?e%3Ddownload&hash=scfgf9psdvelgvrbpmeb0rcjoq2oitod [following]\n",
      "--2020-04-28 08:19:08--  https://docs.google.com/nonceSigner?nonce=gd36d3ni4qo4q&continue=https://doc-0c-18-docs.googleusercontent.com/docs/securesc/qbdjkc3h54bm21vd20ofhabrr8egcrs2/0m1vr74cjoo79un65nrg58dd2hb6qt4e/1588061925000/06568122908834480149/03428519557147019363Z/1XlBL5ZvK-SosZsx8WWcHddmBnHm8TpAU?e%3Ddownload&hash=scfgf9psdvelgvrbpmeb0rcjoq2oitod\n",
      "Connecting to docs.google.com (docs.google.com)|172.217.194.102|:443... connected.\n",
      "HTTP request sent, awaiting response... 302 Found\n",
      "Location: https://doc-0c-18-docs.googleusercontent.com/docs/securesc/qbdjkc3h54bm21vd20ofhabrr8egcrs2/0m1vr74cjoo79un65nrg58dd2hb6qt4e/1588061925000/06568122908834480149/03428519557147019363Z/1XlBL5ZvK-SosZsx8WWcHddmBnHm8TpAU?e=download&nonce=gd36d3ni4qo4q&user=03428519557147019363Z&hash=78eudkgtgr7c23k596cavnki1vjubcn2 [following]\n",
      "--2020-04-28 08:19:08--  https://doc-0c-18-docs.googleusercontent.com/docs/securesc/qbdjkc3h54bm21vd20ofhabrr8egcrs2/0m1vr74cjoo79un65nrg58dd2hb6qt4e/1588061925000/06568122908834480149/03428519557147019363Z/1XlBL5ZvK-SosZsx8WWcHddmBnHm8TpAU?e=download&nonce=gd36d3ni4qo4q&user=03428519557147019363Z&hash=78eudkgtgr7c23k596cavnki1vjubcn2\n",
      "Connecting to doc-0c-18-docs.googleusercontent.com (doc-0c-18-docs.googleusercontent.com)|172.217.194.132|:443... connected.\n",
      "HTTP request sent, awaiting response... 200 OK\n",
      "Length: unspecified [application/octet-stream]\n",
      "Saving to: ‘pretrained_model.pth’\n",
      "\n",
      "pretrained_model.pt     [           <=>      ] 455.37M   217MB/s    in 2.1s    \n",
      "\n",
      "2020-04-28 08:19:11 (217 MB/s) - ‘pretrained_model.pth’ saved [477486037]\n",
      "\n"
     ]
    }
   ],
   "source": [
    "!wget --load-cookies /tmp/cookies.txt \"https://docs.google.com/uc?export=download&confirm=$(wget --quiet --save-cookies /tmp/cookies.txt --keep-session-cookies --no-check-certificate 'https://docs.google.com/uc?export=download&id=1XlBL5ZvK-SosZsx8WWcHddmBnHm8TpAU' -O- | sed -rn 's/.*confirm=([0-9A-Za-z_]+).*/\\1\\n/p')&id=1XlBL5ZvK-SosZsx8WWcHddmBnHm8TpAU\" -O pretrained_model.pth && rm -rf /tmp/cookies.txt"
   ]
  },
  {
   "cell_type": "code",
   "execution_count": 0,
   "metadata": {
    "colab": {
     "base_uri": "https://localhost:8080/",
     "height": 35
    },
    "colab_type": "code",
    "id": "57zB8f0bs_rX",
    "outputId": "bcc4f99b-6869-4553-c693-24a824c4dd40"
   },
   "outputs": [
    {
     "name": "stdout",
     "output_type": "stream",
     "text": [
      "/content\n"
     ]
    }
   ],
   "source": [
    "cd /content/"
   ]
  },
  {
   "cell_type": "code",
   "execution_count": 0,
   "metadata": {
    "colab": {},
    "colab_type": "code",
    "id": "Ckj3-E5ktCdp"
   },
   "outputs": [],
   "source": [
    "mv trainer.py multiple-objects-gan/code/coco/stackgan/"
   ]
  },
  {
   "cell_type": "code",
   "execution_count": 0,
   "metadata": {
    "colab": {},
    "colab_type": "code",
    "id": "H1sg_48ogFc3"
   },
   "outputs": [],
   "source": [
    "mv config.py multiple-objects-gan/code/coco/stackgan/miscc/"
   ]
  },
  {
   "cell_type": "code",
   "execution_count": 0,
   "metadata": {
    "colab": {},
    "colab_type": "code",
    "id": "r7uh51sEgVr9"
   },
   "outputs": [],
   "source": [
    "mv utils.py multiple-objects-gan/code/coco/stackgan/miscc/"
   ]
  },
  {
   "cell_type": "code",
   "execution_count": 0,
   "metadata": {
    "colab": {},
    "colab_type": "code",
    "id": "te4cR53ggpK4"
   },
   "outputs": [],
   "source": [
    "mv datasets.py multiple-objects-gan/code/coco/stackgan/miscc/"
   ]
  },
  {
   "cell_type": "code",
   "execution_count": 0,
   "metadata": {
    "colab": {},
    "colab_type": "code",
    "id": "LyCtA_7k2fPH"
   },
   "outputs": [],
   "source": [
    "mv coco_s2_train.yml multiple-objects-gan/code/coco/stackgan/cfg/"
   ]
  },
  {
   "cell_type": "markdown",
   "metadata": {
    "colab_type": "text",
    "id": "obnfW2jcR017"
   },
   "source": [
    "### The id of the last checpoint 14 :\n",
    "# 1R4DTNB7OAYeYS8Q6dFQDXcptW4MP6LNg\n",
    "##### Dont change the name, the number will be set automatically!"
   ]
  },
  {
   "cell_type": "code",
   "execution_count": 0,
   "metadata": {
    "colab": {
     "base_uri": "https://localhost:8080/",
     "height": 35
    },
    "colab_type": "code",
    "id": "Q13Ty8JOgtpT",
    "outputId": "cd052798-1f44-42a3-9fc5-ec9733e5fbd9"
   },
   "outputs": [
    {
     "name": "stdout",
     "output_type": "stream",
     "text": [
      "/content\n"
     ]
    }
   ],
   "source": [
    "cd /content/"
   ]
  },
  {
   "cell_type": "code",
   "execution_count": 0,
   "metadata": {
    "colab": {
     "base_uri": "https://localhost:8080/",
     "height": 208
    },
    "colab_type": "code",
    "id": "EhPH1TimoX4c",
    "outputId": "02148603-f0d4-4a81-8a2e-961bc59b2d9d"
   },
   "outputs": [
    {
     "name": "stdout",
     "output_type": "stream",
     "text": [
      "--2020-04-28 08:21:28--  https://docs.google.com/uc?export=download&confirm=&id=1mJ7Mx5JEhPhdqkdZoS2Rxr0-LOMseM6T\n",
      "Resolving docs.google.com (docs.google.com)... 74.125.24.102, 74.125.24.100, 74.125.24.139, ...\n",
      "Connecting to docs.google.com (docs.google.com)|74.125.24.102|:443... connected.\n",
      "HTTP request sent, awaiting response... 200 OK\n",
      "Length: unspecified [text/html]\n",
      "Saving to: ‘checkpoint_00012.pth’\n",
      "\n",
      "\r",
      "checkpoint_00012.pt     [<=>                 ]       0  --.-KB/s               \r",
      "checkpoint_00012.pt     [ <=>                ]   3.03K  --.-KB/s    in 0s      \n",
      "\n",
      "2020-04-28 08:21:28 (40.4 MB/s) - ‘checkpoint_00012.pth’ saved [3103]\n",
      "\n"
     ]
    }
   ],
   "source": [
    "!wget --load-cookies /tmp/cookies.txt \"https://docs.google.com/uc?export=download&confirm=$(wget --quiet --save-cookies /tmp/cookies.txt --keep-session-cookies --no-check-certificate 'https://docs.google.com/uc?export=download&id=1mJ7Mx5JEhPhdqkdZoS2Rxr0-LOMseM6T' -O- | sed -rn 's/.*confirm=([0-9A-Za-z_]+).*/\\1\\n/p')&id=1mJ7Mx5JEhPhdqkdZoS2Rxr0-LOMseM6T\" -O checkpoint_00012.pth && rm -rf /tmp/cookies.txt"
   ]
  },
  {
   "cell_type": "code",
   "execution_count": 0,
   "metadata": {
    "colab": {
     "base_uri": "https://localhost:8080/",
     "height": 35
    },
    "colab_type": "code",
    "id": "w-XP4DulhV35",
    "outputId": "e95da744-1236-44d4-a662-e31d8dd0fccf"
   },
   "outputs": [
    {
     "name": "stdout",
     "output_type": "stream",
     "text": [
      "/content/multiple-objects-gan\n"
     ]
    }
   ],
   "source": [
    "cd /content/multiple-objects-gan/"
   ]
  },
  {
   "cell_type": "code",
   "execution_count": 0,
   "metadata": {
    "colab": {
     "base_uri": "https://localhost:8080/",
     "height": 1000
    },
    "colab_type": "code",
    "id": "ABJzVX-9tEGM",
    "outputId": "77e837c1-9ae0-422a-cdf9-f8195661fe6f"
   },
   "outputs": [
    {
     "name": "stdout",
     "output_type": "stream",
     "text": [
      "Starting training on the MS-COCO data set.\n",
      "Using config:\n",
      "{'CONFIG_NAME': 'stageII',\n",
      " 'CUDA': True,\n",
      " 'DATASET_NAME': 'coco',\n",
      " 'DATA_DIR': '../../../data/MS-COCO',\n",
      " 'EMBEDDING_TYPE': 'cnn-rnn',\n",
      " 'GAN': {'CONDITION_DIM': 128, 'DF_DIM': 96, 'GF_DIM': 192, 'R_NUM': 2},\n",
      " 'GPU_ID': '0',\n",
      " 'IMG_DIR': '../../../data/MS-COCO/train/train2014',\n",
      " 'IMSIZE': 256,\n",
      " 'NET_D': '../../../models/checkpoint_00012.pth',\n",
      " 'NET_G': '../../../models/checkpoint_00012.pth',\n",
      " 'STAGE': 2,\n",
      " 'STAGE1_G': '../../../data/models/pretrained_model.pth',\n",
      " 'TEXT': {'DIMENSION': 1024},\n",
      " 'TRAIN': {'BATCH_SIZE': 24,\n",
      "           'COEFF': {'KL': 2.0},\n",
      "           'DISCRIMINATOR_LR': 0.0002,\n",
      "           'FLAG': True,\n",
      "           'GENERATOR_LR': 0.0002,\n",
      "           'LR_DECAY_EPOCH': 20,\n",
      "           'MAX_EPOCH': 120,\n",
      "           'PRETRAINED_EPOCH': 600,\n",
      "           'PRETRAINED_MODEL': '',\n",
      "           'SNAPSHOT_INTERVAL': 2},\n",
      " 'USE_BBOX_LAYOUT': True,\n",
      " 'USE_LOCAL_PATHWAY': True,\n",
      " 'VIS_COUNT': 64,\n",
      " 'WORKERS': 16,\n",
      " 'Z_DIM': 100}\n",
      "Load filenames from: ../../../data/MS-COCO/train/filenames.pickle (82783)\n",
      "tcmalloc: large alloc 1695399936 bytes == 0xf922c000 @  0x7f390ccb21e7 0x7f390a5585e1 0x7f390a5bb138 0x7f390a5be278 0x7f390a5be855 0x7f390a655b1d 0x50ac25 0x50c5b9 0x509d48 0x50aa7d 0x50c5b9 0x508245 0x509642 0x595311 0x54a6ff 0x551b81 0x5aa6ec 0x50abb3 0x50d390 0x508245 0x50b403 0x635222 0x6352d7 0x638a8f 0x639631 0x4b0f40 0x7f390c8afb97 0x5b2fda\n",
      "2020-04-28 08:29:58.286380: I tensorflow/stream_executor/platform/default/dso_loader.cc:44] Successfully opened dynamic library libcudart.so.10.1\n",
      "STAGE2_G(\n",
      "  (STAGE1_G): STAGE1_G(\n",
      "    (ca_net): CA_NET(\n",
      "      (fc): Linear(in_features=1024, out_features=256, bias=True)\n",
      "      (relu): ReLU()\n",
      "    )\n",
      "    (bbox_net): BBOX_NET(\n",
      "      (encode): Sequential(\n",
      "        (0): Conv2d(128, 64, kernel_size=(3, 3), stride=(2, 2), padding=(1, 1), bias=False)\n",
      "        (1): LeakyReLU(negative_slope=0.2, inplace=True)\n",
      "        (2): Conv2d(64, 32, kernel_size=(3, 3), stride=(2, 2), padding=(1, 1), bias=False)\n",
      "        (3): BatchNorm2d(32, eps=1e-05, momentum=0.1, affine=True, track_running_stats=True)\n",
      "        (4): LeakyReLU(negative_slope=0.2, inplace=True)\n",
      "        (5): Conv2d(32, 16, kernel_size=(3, 3), stride=(2, 2), padding=(1, 1), bias=False)\n",
      "        (6): BatchNorm2d(16, eps=1e-05, momentum=0.1, affine=True, track_running_stats=True)\n",
      "        (7): LeakyReLU(negative_slope=0.2, inplace=True)\n",
      "      )\n",
      "    )\n",
      "    (fc): Sequential(\n",
      "      (0): Linear(in_features=292, out_features=24576, bias=False)\n",
      "      (1): BatchNorm1d(24576, eps=1e-05, momentum=0.1, affine=True, track_running_stats=True)\n",
      "      (2): ReLU(inplace=True)\n",
      "    )\n",
      "    (label): Sequential(\n",
      "      (0): Linear(in_features=209, out_features=128, bias=False)\n",
      "      (1): BatchNorm1d(128, eps=1e-05, momentum=0.1, affine=True, track_running_stats=True)\n",
      "      (2): ReLU(inplace=True)\n",
      "    )\n",
      "    (local1): Sequential(\n",
      "      (0): Upsample(scale_factor=2.0, mode=nearest)\n",
      "      (1): Conv2d(128, 768, kernel_size=(3, 3), stride=(1, 1), padding=(1, 1), bias=False)\n",
      "      (2): BatchNorm2d(768, eps=1e-05, momentum=0.1, affine=True, track_running_stats=True)\n",
      "      (3): ReLU(inplace=True)\n",
      "    )\n",
      "    (local2): Sequential(\n",
      "      (0): Upsample(scale_factor=2.0, mode=nearest)\n",
      "      (1): Conv2d(768, 384, kernel_size=(3, 3), stride=(1, 1), padding=(1, 1), bias=False)\n",
      "      (2): BatchNorm2d(384, eps=1e-05, momentum=0.1, affine=True, track_running_stats=True)\n",
      "      (3): ReLU(inplace=True)\n",
      "    )\n",
      "    (upsample1): Sequential(\n",
      "      (0): Upsample(scale_factor=2.0, mode=nearest)\n",
      "      (1): Conv2d(1536, 768, kernel_size=(3, 3), stride=(1, 1), padding=(1, 1), bias=False)\n",
      "      (2): BatchNorm2d(768, eps=1e-05, momentum=0.1, affine=True, track_running_stats=True)\n",
      "      (3): ReLU(inplace=True)\n",
      "    )\n",
      "    (upsample2): Sequential(\n",
      "      (0): Upsample(scale_factor=2.0, mode=nearest)\n",
      "      (1): Conv2d(768, 384, kernel_size=(3, 3), stride=(1, 1), padding=(1, 1), bias=False)\n",
      "      (2): BatchNorm2d(384, eps=1e-05, momentum=0.1, affine=True, track_running_stats=True)\n",
      "      (3): ReLU(inplace=True)\n",
      "    )\n",
      "    (upsample3): Sequential(\n",
      "      (0): Upsample(scale_factor=2.0, mode=nearest)\n",
      "      (1): Conv2d(768, 192, kernel_size=(3, 3), stride=(1, 1), padding=(1, 1), bias=False)\n",
      "      (2): BatchNorm2d(192, eps=1e-05, momentum=0.1, affine=True, track_running_stats=True)\n",
      "      (3): ReLU(inplace=True)\n",
      "    )\n",
      "    (upsample4): Sequential(\n",
      "      (0): Upsample(scale_factor=2.0, mode=nearest)\n",
      "      (1): Conv2d(192, 96, kernel_size=(3, 3), stride=(1, 1), padding=(1, 1), bias=False)\n",
      "      (2): BatchNorm2d(96, eps=1e-05, momentum=0.1, affine=True, track_running_stats=True)\n",
      "      (3): ReLU(inplace=True)\n",
      "    )\n",
      "    (img): Sequential(\n",
      "      (0): Conv2d(96, 3, kernel_size=(3, 3), stride=(1, 1), padding=(1, 1), bias=False)\n",
      "      (1): Tanh()\n",
      "    )\n",
      "  )\n",
      "  (ca_net): CA_NET(\n",
      "    (fc): Linear(in_features=1024, out_features=256, bias=True)\n",
      "    (relu): ReLU()\n",
      "  )\n",
      "  (label): Sequential(\n",
      "    (0): Linear(in_features=209, out_features=128, bias=False)\n",
      "    (1): BatchNorm1d(128, eps=1e-05, momentum=0.1, affine=True, track_running_stats=True)\n",
      "    (2): ReLU(inplace=True)\n",
      "  )\n",
      "  (local1): Sequential(\n",
      "    (0): Upsample(scale_factor=2.0, mode=nearest)\n",
      "    (1): Conv2d(896, 384, kernel_size=(3, 3), stride=(1, 1), padding=(1, 1), bias=False)\n",
      "    (2): BatchNorm2d(384, eps=1e-05, momentum=0.1, affine=True, track_running_stats=True)\n",
      "    (3): ReLU(inplace=True)\n",
      "  )\n",
      "  (local2): Sequential(\n",
      "    (0): Upsample(scale_factor=2.0, mode=nearest)\n",
      "    (1): Conv2d(384, 192, kernel_size=(3, 3), stride=(1, 1), padding=(1, 1), bias=False)\n",
      "    (2): BatchNorm2d(192, eps=1e-05, momentum=0.1, affine=True, track_running_stats=True)\n",
      "    (3): ReLU(inplace=True)\n",
      "  )\n",
      "  (encoder): Sequential(\n",
      "    (0): Conv2d(3, 192, kernel_size=(3, 3), stride=(1, 1), padding=(1, 1), bias=False)\n",
      "    (1): ReLU(inplace=True)\n",
      "    (2): Conv2d(192, 384, kernel_size=(4, 4), stride=(2, 2), padding=(1, 1), bias=False)\n",
      "    (3): BatchNorm2d(384, eps=1e-05, momentum=0.1, affine=True, track_running_stats=True)\n",
      "    (4): ReLU(inplace=True)\n",
      "    (5): Conv2d(384, 768, kernel_size=(4, 4), stride=(2, 2), padding=(1, 1), bias=False)\n",
      "    (6): BatchNorm2d(768, eps=1e-05, momentum=0.1, affine=True, track_running_stats=True)\n",
      "    (7): ReLU(inplace=True)\n",
      "  )\n",
      "  (hr_joint): Sequential(\n",
      "    (0): Conv2d(1024, 768, kernel_size=(3, 3), stride=(1, 1), padding=(1, 1), bias=False)\n",
      "    (1): BatchNorm2d(768, eps=1e-05, momentum=0.1, affine=True, track_running_stats=True)\n",
      "    (2): ReLU(inplace=True)\n",
      "  )\n",
      "  (residual): Sequential(\n",
      "    (0): ResBlock(\n",
      "      (block): Sequential(\n",
      "        (0): Conv2d(768, 768, kernel_size=(3, 3), stride=(1, 1), padding=(1, 1), bias=False)\n",
      "        (1): BatchNorm2d(768, eps=1e-05, momentum=0.1, affine=True, track_running_stats=True)\n",
      "        (2): ReLU(inplace=True)\n",
      "        (3): Conv2d(768, 768, kernel_size=(3, 3), stride=(1, 1), padding=(1, 1), bias=False)\n",
      "        (4): BatchNorm2d(768, eps=1e-05, momentum=0.1, affine=True, track_running_stats=True)\n",
      "      )\n",
      "      (relu): ReLU(inplace=True)\n",
      "    )\n",
      "    (1): ResBlock(\n",
      "      (block): Sequential(\n",
      "        (0): Conv2d(768, 768, kernel_size=(3, 3), stride=(1, 1), padding=(1, 1), bias=False)\n",
      "        (1): BatchNorm2d(768, eps=1e-05, momentum=0.1, affine=True, track_running_stats=True)\n",
      "        (2): ReLU(inplace=True)\n",
      "        (3): Conv2d(768, 768, kernel_size=(3, 3), stride=(1, 1), padding=(1, 1), bias=False)\n",
      "        (4): BatchNorm2d(768, eps=1e-05, momentum=0.1, affine=True, track_running_stats=True)\n",
      "      )\n",
      "      (relu): ReLU(inplace=True)\n",
      "    )\n",
      "  )\n",
      "  (upsample1): Sequential(\n",
      "    (0): Upsample(scale_factor=2.0, mode=nearest)\n",
      "    (1): Conv2d(768, 384, kernel_size=(3, 3), stride=(1, 1), padding=(1, 1), bias=False)\n",
      "    (2): BatchNorm2d(384, eps=1e-05, momentum=0.1, affine=True, track_running_stats=True)\n",
      "    (3): ReLU(inplace=True)\n",
      "  )\n",
      "  (upsample2): Sequential(\n",
      "    (0): Upsample(scale_factor=2.0, mode=nearest)\n",
      "    (1): Conv2d(384, 192, kernel_size=(3, 3), stride=(1, 1), padding=(1, 1), bias=False)\n",
      "    (2): BatchNorm2d(192, eps=1e-05, momentum=0.1, affine=True, track_running_stats=True)\n",
      "    (3): ReLU(inplace=True)\n",
      "  )\n",
      "  (upsample3): Sequential(\n",
      "    (0): Upsample(scale_factor=2.0, mode=nearest)\n",
      "    (1): Conv2d(384, 96, kernel_size=(3, 3), stride=(1, 1), padding=(1, 1), bias=False)\n",
      "    (2): BatchNorm2d(96, eps=1e-05, momentum=0.1, affine=True, track_running_stats=True)\n",
      "    (3): ReLU(inplace=True)\n",
      "  )\n",
      "  (upsample4): Sequential(\n",
      "    (0): Upsample(scale_factor=2.0, mode=nearest)\n",
      "    (1): Conv2d(96, 48, kernel_size=(3, 3), stride=(1, 1), padding=(1, 1), bias=False)\n",
      "    (2): BatchNorm2d(48, eps=1e-05, momentum=0.1, affine=True, track_running_stats=True)\n",
      "    (3): ReLU(inplace=True)\n",
      "  )\n",
      "  (img): Sequential(\n",
      "    (0): Conv2d(48, 3, kernel_size=(3, 3), stride=(1, 1), padding=(1, 1), bias=False)\n",
      "    (1): Tanh()\n",
      "  )\n",
      ")\n",
      "lklklklklklklklk\n",
      "Load from:  ../../../data/models/pretrained_model.pth\n",
      "STAGE2_D(\n",
      "  (local): Sequential(\n",
      "    (0): Conv2d(84, 192, kernel_size=(4, 4), stride=(1, 1), padding=(1, 1), bias=False)\n",
      "    (1): BatchNorm2d(192, eps=1e-05, momentum=0.1, affine=True, track_running_stats=True)\n",
      "    (2): LeakyReLU(negative_slope=0.2, inplace=True)\n",
      "    (3): Conv2d(192, 192, kernel_size=(4, 4), stride=(1, 1), padding=(1, 1), bias=False)\n",
      "    (4): BatchNorm2d(192, eps=1e-05, momentum=0.1, affine=True, track_running_stats=True)\n",
      "    (5): LeakyReLU(negative_slope=0.2, inplace=True)\n",
      "  )\n",
      "  (act): LeakyReLU(negative_slope=0.2, inplace=True)\n",
      "  (conv1): Conv2d(3, 96, kernel_size=(4, 4), stride=(2, 2), padding=(1, 1), bias=False)\n",
      "  (conv2): Conv2d(96, 192, kernel_size=(4, 4), stride=(2, 2), padding=(1, 1), bias=False)\n",
      "  (bn2): BatchNorm2d(192, eps=1e-05, momentum=0.1, affine=True, track_running_stats=True)\n",
      "  (conv3): Conv2d(192, 384, kernel_size=(4, 4), stride=(2, 2), padding=(1, 1), bias=False)\n",
      "  (bn3): BatchNorm2d(384, eps=1e-05, momentum=0.1, affine=True, track_running_stats=True)\n",
      "  (conv4): Conv2d(576, 768, kernel_size=(4, 4), stride=(2, 2), padding=(1, 1), bias=False)\n",
      "  (bn4): BatchNorm2d(768, eps=1e-05, momentum=0.1, affine=True, track_running_stats=True)\n",
      "  (conv5): Conv2d(768, 1536, kernel_size=(4, 4), stride=(2, 2), padding=(1, 1), bias=False)\n",
      "  (bn5): BatchNorm2d(1536, eps=1e-05, momentum=0.1, affine=True, track_running_stats=True)\n",
      "  (conv6): Conv2d(1536, 3072, kernel_size=(4, 4), stride=(2, 2), padding=(1, 1), bias=False)\n",
      "  (bn6): BatchNorm2d(3072, eps=1e-05, momentum=0.1, affine=True, track_running_stats=True)\n",
      "  (conv7): Conv2d(3072, 1536, kernel_size=(3, 3), stride=(1, 1), padding=(1, 1), bias=False)\n",
      "  (bn7): BatchNorm2d(1536, eps=1e-05, momentum=0.1, affine=True, track_running_stats=True)\n",
      "  (conv8): Conv2d(1536, 768, kernel_size=(3, 3), stride=(1, 1), padding=(1, 1), bias=False)\n",
      "  (bn8): BatchNorm2d(768, eps=1e-05, momentum=0.1, affine=True, track_running_stats=True)\n",
      "  (get_cond_logits): D_GET_LOGITS(\n",
      "    (outlogits): Sequential(\n",
      "      (0): Conv2d(896, 768, kernel_size=(3, 3), stride=(1, 1), padding=(1, 1), bias=False)\n",
      "      (1): BatchNorm2d(768, eps=1e-05, momentum=0.1, affine=True, track_running_stats=True)\n",
      "      (2): LeakyReLU(negative_slope=0.2, inplace=True)\n",
      "      (3): Conv2d(768, 1, kernel_size=(4, 4), stride=(4, 4))\n",
      "    )\n",
      "  )\n",
      "  (get_uncond_logits): D_GET_LOGITS(\n",
      "    (outlogits): Sequential(\n",
      "      (0): Conv2d(768, 1, kernel_size=(4, 4), stride=(4, 4))\n",
      "    )\n",
      "  )\n",
      ")\n",
      "0\n"
     ]
    }
   ],
   "source": [
    "!sh train.sh coco-stackgan-2 '0' #12:30 am , 2/1/2020 epoch 14 at 3:20 am"
   ]
  },
  {
   "cell_type": "code",
   "execution_count": 0,
   "metadata": {
    "colab": {},
    "colab_type": "code",
    "id": "_RP7nQarrPaL"
   },
   "outputs": [],
   "source": []
  },
  {
   "cell_type": "code",
   "execution_count": 0,
   "metadata": {
    "colab": {},
    "colab_type": "code",
    "id": "KsJGkz8SrPXn"
   },
   "outputs": [],
   "source": []
  },
  {
   "cell_type": "code",
   "execution_count": 0,
   "metadata": {
    "colab": {},
    "colab_type": "code",
    "id": "xPNZg9YBrPU5"
   },
   "outputs": [],
   "source": []
  }
 ],
 "metadata": {
  "accelerator": "GPU",
  "colab": {
   "name": "T4-stage2-epoch14.ipynb",
   "provenance": []
  },
  "kernelspec": {
   "display_name": "Python 3",
   "language": "python",
   "name": "python3"
  },
  "language_info": {
   "codemirror_mode": {
    "name": "ipython",
    "version": 3
   },
   "file_extension": ".py",
   "mimetype": "text/x-python",
   "name": "python",
   "nbconvert_exporter": "python",
   "pygments_lexer": "ipython3",
   "version": "3.7.4"
  }
 },
 "nbformat": 4,
 "nbformat_minor": 1
}
